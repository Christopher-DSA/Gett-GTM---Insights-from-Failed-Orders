{
 "cells": [
  {
   "cell_type": "code",
   "execution_count": 1,
   "metadata": {},
   "outputs": [],
   "source": [
    "# Data Manipulation\n",
    "import pandas as pd\n",
    "\n",
    "# Data Visualization\n",
    "import matplotlib.pyplot as plt\n",
    "import seaborn as sns\n",
    "import plotly.express as px\n",
    "import nbformat\n",
    "\n",
    "# Geospatial Analysis\n",
    "import geopandas as gpd\n",
    "import folium\n",
    "from h3 import h3\n",
    "\n",
    "# General-purpose\n",
    "import numpy as np\n",
    "import scipy\n",
    "\n",
    "#My-SQL\n",
    "import mysql.connector\n",
    "from mysql.connector import Error"
   ]
  },
  {
   "cell_type": "markdown",
   "metadata": {},
   "source": [
    "## Connect to Database with Gett Data\n",
    "\n",
    "---"
   ]
  },
  {
   "cell_type": "code",
   "execution_count": 2,
   "metadata": {},
   "outputs": [
    {
     "name": "stdout",
     "output_type": "stream",
     "text": [
      "Connected to MySQL Server version  8.0.34\n",
      "You're connected to database:  ('gett_taxi_database',)\n"
     ]
    }
   ],
   "source": [
    "try:\n",
    "    connection = mysql.connector.connect(host='localhost',\n",
    "                                         database='gett_taxi_database',\n",
    "                                         user='root',\n",
    "                                         password='admin')\n",
    "    if connection.is_connected():\n",
    "        db_Info = connection.get_server_info()\n",
    "        print(\"Connected to MySQL Server version \", db_Info)\n",
    "        cursor = connection.cursor()\n",
    "        cursor.execute(\"select database();\")\n",
    "        record = cursor.fetchone()\n",
    "        print(\"You're connected to database: \", record)\n",
    "\n",
    "except Error as e:\n",
    "    print(\"Error while connecting to MySQL\", e)\n",
    "# finally:\n",
    "#     if connection.is_connected():\n",
    "#         cursor.close()\n",
    "#         connection.close()\n",
    "#         print(\"MySQL connection is closed\")"
   ]
  },
  {
   "cell_type": "markdown",
   "metadata": {},
   "source": [
    "### A Query giving us access to the data in the data_orders table.\n",
    "\n",
    "---"
   ]
  },
  {
   "cell_type": "code",
   "execution_count": 3,
   "metadata": {},
   "outputs": [
    {
     "name": "stdout",
     "output_type": "stream",
     "text": [
      "<class 'pandas.core.frame.DataFrame'>\n",
      "RangeIndex: 10716 entries, 0 to 10715\n",
      "Data columns (total 8 columns):\n",
      " #   Column                         Non-Null Count  Dtype  \n",
      "---  ------                         --------------  -----  \n",
      " 0   order_gk                       10716 non-null  int64  \n",
      " 1   order_time                     10716 non-null  object \n",
      " 2   origin_longitude               10716 non-null  object \n",
      " 3   origin_latitude                10716 non-null  object \n",
      " 4   minutes_order_eta              2814 non-null   float64\n",
      " 5   order_status_key               10716 non-null  object \n",
      " 6   is_driver_assigned_key         10716 non-null  int64  \n",
      " 7   cancellations_time_in_seconds  7307 non-null   float64\n",
      "dtypes: float64(2), int64(2), object(4)\n",
      "memory usage: 669.9+ KB\n"
     ]
    }
   ],
   "source": [
    " #The Query\n",
    "sql_select_Query = \"select * from data_orders\"\n",
    "cursor = connection.cursor()\n",
    "\n",
    "# Execute the query\n",
    "cursor.execute(sql_select_Query)\n",
    "\n",
    "# Fetch the data\n",
    "records = cursor.fetchall()\n",
    "\n",
    "# Column names\n",
    "column_names = [i[0] for i in cursor.description]\n",
    "\n",
    "# Put the data into a pandas DataFrame\n",
    "df = pd.DataFrame(records, columns=column_names)\n",
    "\n",
    "# Don't forget to close the cursor and connection\n",
    "cursor.close()\n",
    "connection.close()\n",
    "\n",
    "# Display the DataFrame\n",
    "df.info()"
   ]
  },
  {
   "cell_type": "markdown",
   "metadata": {},
   "source": [
    "#### Updating Column Data Types"
   ]
  },
  {
   "cell_type": "code",
   "execution_count": 10,
   "metadata": {},
   "outputs": [],
   "source": [
    "#First thing we want to do is get our Data types correct for our use case:\n",
    "df[\"order_status_key\"] = df[\"order_status_key\"].astype(\"category\")\n",
    "df[\"is_driver_assigned_key\"] = df[\"is_driver_assigned_key\"].astype(\"category\")"
   ]
  },
  {
   "cell_type": "code",
   "execution_count": 11,
   "metadata": {},
   "outputs": [
    {
     "name": "stdout",
     "output_type": "stream",
     "text": [
      "<class 'pandas.core.frame.DataFrame'>\n",
      "RangeIndex: 10716 entries, 0 to 10715\n",
      "Data columns (total 8 columns):\n",
      " #   Column                         Non-Null Count  Dtype   \n",
      "---  ------                         --------------  -----   \n",
      " 0   order_gk                       10716 non-null  int64   \n",
      " 1   order_time                     10716 non-null  object  \n",
      " 2   origin_longitude               10716 non-null  object  \n",
      " 3   origin_latitude                10716 non-null  object  \n",
      " 4   minutes_order_eta              2814 non-null   float64 \n",
      " 5   order_status_key               10716 non-null  category\n",
      " 6   is_driver_assigned_key         10716 non-null  category\n",
      " 7   cancellations_time_in_seconds  7307 non-null   float64 \n",
      "dtypes: category(2), float64(2), int64(1), object(3)\n",
      "memory usage: 523.6+ KB\n"
     ]
    }
   ],
   "source": [
    "df.info()"
   ]
  },
  {
   "cell_type": "markdown",
   "metadata": {},
   "source": [
    "1. Build up distribution of orders according to reasons for failure: \n",
    "cancellations before and after driver assignment, \n",
    "and reasons for order rejection. \n",
    "\n",
    "    Analyse the resulting plot. Which category has the highest number of orders?\n",
    "\n",
    "---"
   ]
  },
  {
   "cell_type": "markdown",
   "metadata": {},
   "source": [
    "#### Bar plot comparing Order Status Key"
   ]
  },
  {
   "cell_type": "code",
   "execution_count": 24,
   "metadata": {},
   "outputs": [],
   "source": [
    "#The index represents the unique cancellation codes in the data and the values are the count.\n",
    "#df['order_status_key'].value_counts()\n"
   ]
  },
  {
   "cell_type": "code",
   "execution_count": 13,
   "metadata": {},
   "outputs": [
    {
     "data": {
      "image/png": "[encoded data removed]",
      "text/plain": [
       "<Figure size 640x480 with 1 Axes>"
      ]
     },
     "metadata": {},
     "output_type": "display_data"
    }
   ],
   "source": [
    "# Get the value counts\n",
    "value_counts = df['order_status_key'].value_counts()\n",
    "\n",
    "# Get categories and values\n",
    "categories = value_counts.index\n",
    "values = value_counts.values\n",
    "\n",
    "# Create the bar plot\n",
    "bars = plt.bar(categories, values)\n",
    "\n",
    "# Add text labels\n",
    "for bar in bars:\n",
    "    yval = bar.get_height()\n",
    "    plt.text(bar.get_x() + bar.get_width()/2.0, yval, int(yval), va='bottom')  # va: vertical alignment\n",
    "\n",
    "plt.xlabel('Order Status Key')\n",
    "plt.ylabel('Count')\n",
    "plt.title('Distribution of Order Status')\n",
    "\n",
    "plt.show()"
   ]
  },
  {
   "cell_type": "markdown",
   "metadata": {},
   "source": [
    "---\n",
    "---"
   ]
  },
  {
   "cell_type": "markdown",
   "metadata": {},
   "source": [
    "#### Bar plot comparing Driver assignment"
   ]
  },
  {
   "cell_type": "code",
   "execution_count": 23,
   "metadata": {},
   "outputs": [],
   "source": [
    "#df['is_driver_assigned_key'].value_counts()"
   ]
  },
  {
   "cell_type": "code",
   "execution_count": 22,
   "metadata": {},
   "outputs": [
    {
     "data": {
      "image/png": "[encoded data removed]",
      "text/plain": [
       "<Figure size 640x480 with 1 Axes>"
      ]
     },
     "metadata": {},
     "output_type": "display_data"
    }
   ],
   "source": [
    "# Get the value counts\n",
    "value_counts = df['is_driver_assigned_key'].value_counts()\n",
    "\n",
    "# Get categories and values\n",
    "categories = value_counts.index\n",
    "values = value_counts.values\n",
    "\n",
    "# Create the bar plot\n",
    "bars = plt.bar(categories, values)\n",
    "\n",
    "# Add text labels\n",
    "for bar in bars:\n",
    "    yval = bar.get_height()\n",
    "    plt.text(bar.get_x() + bar.get_width()/2.0, yval, int(yval), va='bottom')  # va: vertical alignment\n",
    "\n",
    "plt.xticks(ticks=[0,1], labels=[\"No Driver Assigned\",\"A Driver was Assigned\"])\n",
    "plt.xlabel('')\n",
    "plt.ylabel('Count')\n",
    "plt.title('Order Cancellation by Driver Assignment')\n",
    "\n",
    "plt.show()"
   ]
  },
  {
   "cell_type": "markdown",
   "metadata": {},
   "source": [
    "## Important details to note before continuing:\n",
    "\n",
    "---\n",
    "\n",
    "-An order will only have a cancellation time recorded if the *client* cancels the order.\n",
    "\n",
    "-If the system cancels an order than there will be no recored cancellation time.\n",
    "\n",
    "-Every row in this table is a cancelled order so we need to divide them based on the reason for cancellation"
   ]
  },
  {
   "cell_type": "markdown",
   "metadata": {},
   "source": [
    "1. Build up distribution of orders according to reasons for failure: \n",
    "cancellations before and after driver assignment, \n",
    "and reasons for order rejection. \n",
    "\n",
    "    Analyse the resulting plot. Which category has the highest number of orders?"
   ]
  },
  {
   "cell_type": "code",
   "execution_count": 29,
   "metadata": {},
   "outputs": [],
   "source": [
    "# Don't forget to close the cursor and connection\n",
    "cursor.close()\n",
    "connection.close()"
   ]
  }
 ],
 "metadata": {
  "kernelspec": {
   "display_name": "base",
   "language": "python",
   "name": "python3"
  },
  "language_info": {
   "codemirror_mode": {
    "name": "ipython",
    "version": 3
   },
   "file_extension": ".py",
   "mimetype": "text/x-python",
   "name": "python",
   "nbconvert_exporter": "python",
   "pygments_lexer": "ipython3",
   "version": "3.7.16"
  }
 },
 "nbformat": 4,
 "nbformat_minor": 2
}
